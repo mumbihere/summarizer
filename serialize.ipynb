{
 "cells": [
  {
   "cell_type": "markdown",
   "metadata": {},
   "source": [
    "This script creates a tokens.pkl  "
   ]
  },
  {
   "cell_type": "code",
   "execution_count": 4,
   "metadata": {
    "collapsed": false
   },
   "outputs": [],
   "source": [
    "#Importations\n",
    "import pickle \n",
    "import glob\n",
    "import re"
   ]
  },
  {
   "cell_type": "code",
   "execution_count": 35,
   "metadata": {
    "collapsed": false
   },
   "outputs": [
    {
     "data": {
      "text/plain": [
       "(510, 510)"
      ]
     },
     "execution_count": 35,
     "metadata": {},
     "output_type": "execute_result"
    }
   ],
   "source": [
    "#Read raw data from text documents\n",
    "filenames = glob.glob('data/bbc_business_data/*.txt')\n",
    "summaries = []\n",
    "descriptions = []\n",
    "for f in filenames:\n",
    "    with open(f) as file:  \n",
    "        data = file.read()\n",
    "        m = re.split('\\n',data) #Split paragraphs -where there is a newline/enter\n",
    "        m=[ x for x in m if x !=''] #consider only non-empty paragraphs\n",
    "        summaries.append(m[0]) #append 1st paragraph as the summary\n",
    "        descriptions.append(\"\".join(m[1:])) #concatenate everything else and add it as the description\n",
    "len(summaries),len(descriptions)"
   ]
  },
  {
   "cell_type": "code",
   "execution_count": 38,
   "metadata": {
    "collapsed": false
   },
   "outputs": [],
   "source": [
    "# Save into a pickle file.\n",
    "tup=(summaries,descriptions)\n",
    "pickle.dump( tup, open( \"data/tokens.pkl\", \"wb\" ))\n"
   ]
  },
  {
   "cell_type": "code",
   "execution_count": 7,
   "metadata": {
    "collapsed": false
   },
   "outputs": [
    {
     "data": {
      "text/plain": [
       "'Lobster Stew'"
      ]
     },
     "execution_count": 7,
     "metadata": {},
     "output_type": "execute_result"
    }
   ],
   "source": [
    "import pickle \n",
    "#Load from pickle file\n",
    "x = pickle.load(open( \"data/tokens3.pkl\",'rb' ))\n",
    "x[0][0]"
   ]
  },
  {
   "cell_type": "code",
   "execution_count": null,
   "metadata": {
    "collapsed": true
   },
   "outputs": [],
   "source": []
  }
 ],
 "metadata": {
  "kernelspec": {
   "display_name": "Python [Root]",
   "language": "python",
   "name": "Python [Root]"
  },
  "language_info": {
   "codemirror_mode": {
    "name": "ipython",
    "version": 3
   },
   "file_extension": ".py",
   "mimetype": "text/x-python",
   "name": "python",
   "nbconvert_exporter": "python",
   "pygments_lexer": "ipython3",
   "version": "3.5.2"
  }
 },
 "nbformat": 4,
 "nbformat_minor": 0
}
